{
 "cells": [
  {
   "cell_type": "code",
   "execution_count": 313,
   "id": "69257821-9442-448a-9d46-c37c3e12b03d",
   "metadata": {},
   "outputs": [],
   "source": [
    "import numpy as np\n",
    "import pandas as pd\n",
    "import matplotlib.pyplot as plt\n",
    "import seaborn as sns\n",
    "from sklearn.preprocessing import OneHotEncoder"
   ]
  },
  {
   "cell_type": "code",
   "execution_count": 314,
   "id": "3479067d-4fce-4c32-a9f3-dd3d33fe381f",
   "metadata": {},
   "outputs": [],
   "source": [
    "df = pd.read_csv(\"multiclass.csv\")"
   ]
  },
  {
   "cell_type": "code",
   "execution_count": 315,
   "id": "65a8cb8b-baf3-44c2-aef6-8bd27f5441c8",
   "metadata": {},
   "outputs": [
    {
     "data": {
      "text/html": [
       "<div>\n",
       "<style scoped>\n",
       "    .dataframe tbody tr th:only-of-type {\n",
       "        vertical-align: middle;\n",
       "    }\n",
       "\n",
       "    .dataframe tbody tr th {\n",
       "        vertical-align: top;\n",
       "    }\n",
       "\n",
       "    .dataframe thead th {\n",
       "        text-align: right;\n",
       "    }\n",
       "</style>\n",
       "<table border=\"1\" class=\"dataframe\">\n",
       "  <thead>\n",
       "    <tr style=\"text-align: right;\">\n",
       "      <th></th>\n",
       "      <th>Region</th>\n",
       "      <th>Fresh</th>\n",
       "      <th>Milk</th>\n",
       "      <th>Grocery</th>\n",
       "      <th>Frozen</th>\n",
       "      <th>Detergents_Paper</th>\n",
       "      <th>Delicassen</th>\n",
       "      <th>class</th>\n",
       "    </tr>\n",
       "  </thead>\n",
       "  <tbody>\n",
       "    <tr>\n",
       "      <th>0</th>\n",
       "      <td>3</td>\n",
       "      <td>12669</td>\n",
       "      <td>9656</td>\n",
       "      <td>7561</td>\n",
       "      <td>214</td>\n",
       "      <td>2674</td>\n",
       "      <td>1338</td>\n",
       "      <td>2</td>\n",
       "    </tr>\n",
       "    <tr>\n",
       "      <th>1</th>\n",
       "      <td>3</td>\n",
       "      <td>7057</td>\n",
       "      <td>9810</td>\n",
       "      <td>9568</td>\n",
       "      <td>1762</td>\n",
       "      <td>3293</td>\n",
       "      <td>1776</td>\n",
       "      <td>2</td>\n",
       "    </tr>\n",
       "    <tr>\n",
       "      <th>2</th>\n",
       "      <td>3</td>\n",
       "      <td>6353</td>\n",
       "      <td>8808</td>\n",
       "      <td>7684</td>\n",
       "      <td>2405</td>\n",
       "      <td>3516</td>\n",
       "      <td>7844</td>\n",
       "      <td>2</td>\n",
       "    </tr>\n",
       "    <tr>\n",
       "      <th>3</th>\n",
       "      <td>3</td>\n",
       "      <td>13265</td>\n",
       "      <td>1196</td>\n",
       "      <td>4221</td>\n",
       "      <td>6404</td>\n",
       "      <td>507</td>\n",
       "      <td>1788</td>\n",
       "      <td>1</td>\n",
       "    </tr>\n",
       "    <tr>\n",
       "      <th>4</th>\n",
       "      <td>3</td>\n",
       "      <td>22615</td>\n",
       "      <td>5410</td>\n",
       "      <td>7198</td>\n",
       "      <td>3915</td>\n",
       "      <td>1777</td>\n",
       "      <td>5185</td>\n",
       "      <td>1</td>\n",
       "    </tr>\n",
       "  </tbody>\n",
       "</table>\n",
       "</div>"
      ],
      "text/plain": [
       "   Region  Fresh  Milk  Grocery  Frozen  Detergents_Paper  Delicassen  class\n",
       "0       3  12669  9656     7561     214              2674        1338      2\n",
       "1       3   7057  9810     9568    1762              3293        1776      2\n",
       "2       3   6353  8808     7684    2405              3516        7844      2\n",
       "3       3  13265  1196     4221    6404               507        1788      1\n",
       "4       3  22615  5410     7198    3915              1777        5185      1"
      ]
     },
     "execution_count": 315,
     "metadata": {},
     "output_type": "execute_result"
    }
   ],
   "source": [
    "df.head()"
   ]
  },
  {
   "cell_type": "markdown",
   "id": "5c9a6366-337a-4f40-975a-30b1a91e37eb",
   "metadata": {},
   "source": [
    "**24Seven** is a retail chain, which has different stores buying various products. Based on the purchase history we want to divide the stores into classes for better inventory management and customer handling."
   ]
  },
  {
   "cell_type": "markdown",
   "id": "d9b79687-5c9e-405f-a267-a803c918f08e",
   "metadata": {},
   "source": [
    "**Data Description:**\n",
    "\n",
    "\n",
    "| Id | Features | Description |\n",
    "| :-- | :--| :--|\n",
    "|01| **Region** | Region of the store (1: Less purchase 2: frequent purchase 3: high purchase|\n",
    "|02| **Fresh** | How many fresh items are brought |\n",
    "|03|**Milk**| How many units of Milk is purchased |\n",
    "|04|**Grocery**|Units of Grocery bought for the store |\n",
    "|05|**Frozen**|Frozen items purchased |\n",
    "|06|**Detergents_Paper**|Unit of Detergents and paper bought |\n",
    "|07|**Delicassen**|Food related items |\n",
    "|08|**class**| Type/Category of the Store (1 ,2 , 3)|"
   ]
  },
  {
   "cell_type": "code",
   "execution_count": 316,
   "id": "8184d945-f4a9-4189-97f3-9fa51f773083",
   "metadata": {},
   "outputs": [
    {
     "data": {
      "text/plain": [
       "(440, 8)"
      ]
     },
     "execution_count": 316,
     "metadata": {},
     "output_type": "execute_result"
    }
   ],
   "source": [
    "df.shape"
   ]
  },
  {
   "cell_type": "code",
   "execution_count": 317,
   "id": "35710590-7124-40b9-a949-aec4cd367ad8",
   "metadata": {},
   "outputs": [
    {
     "data": {
      "text/plain": [
       "Region              0\n",
       "Fresh               0\n",
       "Milk                0\n",
       "Grocery             0\n",
       "Frozen              0\n",
       "Detergents_Paper    0\n",
       "Delicassen          0\n",
       "class               0\n",
       "dtype: int64"
      ]
     },
     "execution_count": 317,
     "metadata": {},
     "output_type": "execute_result"
    }
   ],
   "source": [
    "df.isnull().sum()"
   ]
  },
  {
   "cell_type": "code",
   "execution_count": 318,
   "id": "94fa9889-063d-4a36-950f-f157fe7b26fc",
   "metadata": {},
   "outputs": [
    {
     "data": {
      "text/html": [
       "<div>\n",
       "<style scoped>\n",
       "    .dataframe tbody tr th:only-of-type {\n",
       "        vertical-align: middle;\n",
       "    }\n",
       "\n",
       "    .dataframe tbody tr th {\n",
       "        vertical-align: top;\n",
       "    }\n",
       "\n",
       "    .dataframe thead th {\n",
       "        text-align: right;\n",
       "    }\n",
       "</style>\n",
       "<table border=\"1\" class=\"dataframe\">\n",
       "  <thead>\n",
       "    <tr style=\"text-align: right;\">\n",
       "      <th></th>\n",
       "      <th>Region</th>\n",
       "      <th>Fresh</th>\n",
       "      <th>Milk</th>\n",
       "      <th>Grocery</th>\n",
       "      <th>Frozen</th>\n",
       "      <th>Detergents_Paper</th>\n",
       "      <th>Delicassen</th>\n",
       "      <th>class</th>\n",
       "    </tr>\n",
       "  </thead>\n",
       "  <tbody>\n",
       "    <tr>\n",
       "      <th>count</th>\n",
       "      <td>440.000000</td>\n",
       "      <td>440.000000</td>\n",
       "      <td>440.000000</td>\n",
       "      <td>440.000000</td>\n",
       "      <td>440.000000</td>\n",
       "      <td>440.000000</td>\n",
       "      <td>440.000000</td>\n",
       "      <td>440.000000</td>\n",
       "    </tr>\n",
       "    <tr>\n",
       "      <th>mean</th>\n",
       "      <td>2.543182</td>\n",
       "      <td>12000.297727</td>\n",
       "      <td>5796.265909</td>\n",
       "      <td>7951.277273</td>\n",
       "      <td>3071.931818</td>\n",
       "      <td>2881.493182</td>\n",
       "      <td>1524.870455</td>\n",
       "      <td>2.195455</td>\n",
       "    </tr>\n",
       "    <tr>\n",
       "      <th>std</th>\n",
       "      <td>0.774272</td>\n",
       "      <td>12647.328865</td>\n",
       "      <td>7380.377175</td>\n",
       "      <td>9503.162829</td>\n",
       "      <td>4854.673333</td>\n",
       "      <td>4767.854448</td>\n",
       "      <td>2820.105937</td>\n",
       "      <td>0.744289</td>\n",
       "    </tr>\n",
       "    <tr>\n",
       "      <th>min</th>\n",
       "      <td>1.000000</td>\n",
       "      <td>3.000000</td>\n",
       "      <td>55.000000</td>\n",
       "      <td>3.000000</td>\n",
       "      <td>25.000000</td>\n",
       "      <td>3.000000</td>\n",
       "      <td>3.000000</td>\n",
       "      <td>1.000000</td>\n",
       "    </tr>\n",
       "    <tr>\n",
       "      <th>25%</th>\n",
       "      <td>2.000000</td>\n",
       "      <td>3127.750000</td>\n",
       "      <td>1533.000000</td>\n",
       "      <td>2153.000000</td>\n",
       "      <td>742.250000</td>\n",
       "      <td>256.750000</td>\n",
       "      <td>408.250000</td>\n",
       "      <td>2.000000</td>\n",
       "    </tr>\n",
       "    <tr>\n",
       "      <th>50%</th>\n",
       "      <td>3.000000</td>\n",
       "      <td>8504.000000</td>\n",
       "      <td>3627.000000</td>\n",
       "      <td>4755.500000</td>\n",
       "      <td>1526.000000</td>\n",
       "      <td>816.500000</td>\n",
       "      <td>965.500000</td>\n",
       "      <td>2.000000</td>\n",
       "    </tr>\n",
       "    <tr>\n",
       "      <th>75%</th>\n",
       "      <td>3.000000</td>\n",
       "      <td>16933.750000</td>\n",
       "      <td>7190.250000</td>\n",
       "      <td>10655.750000</td>\n",
       "      <td>3554.250000</td>\n",
       "      <td>3922.000000</td>\n",
       "      <td>1820.250000</td>\n",
       "      <td>3.000000</td>\n",
       "    </tr>\n",
       "    <tr>\n",
       "      <th>max</th>\n",
       "      <td>3.000000</td>\n",
       "      <td>112151.000000</td>\n",
       "      <td>73498.000000</td>\n",
       "      <td>92780.000000</td>\n",
       "      <td>60869.000000</td>\n",
       "      <td>40827.000000</td>\n",
       "      <td>47943.000000</td>\n",
       "      <td>3.000000</td>\n",
       "    </tr>\n",
       "  </tbody>\n",
       "</table>\n",
       "</div>"
      ],
      "text/plain": [
       "           Region          Fresh          Milk       Grocery        Frozen  \\\n",
       "count  440.000000     440.000000    440.000000    440.000000    440.000000   \n",
       "mean     2.543182   12000.297727   5796.265909   7951.277273   3071.931818   \n",
       "std      0.774272   12647.328865   7380.377175   9503.162829   4854.673333   \n",
       "min      1.000000       3.000000     55.000000      3.000000     25.000000   \n",
       "25%      2.000000    3127.750000   1533.000000   2153.000000    742.250000   \n",
       "50%      3.000000    8504.000000   3627.000000   4755.500000   1526.000000   \n",
       "75%      3.000000   16933.750000   7190.250000  10655.750000   3554.250000   \n",
       "max      3.000000  112151.000000  73498.000000  92780.000000  60869.000000   \n",
       "\n",
       "       Detergents_Paper    Delicassen       class  \n",
       "count        440.000000    440.000000  440.000000  \n",
       "mean        2881.493182   1524.870455    2.195455  \n",
       "std         4767.854448   2820.105937    0.744289  \n",
       "min            3.000000      3.000000    1.000000  \n",
       "25%          256.750000    408.250000    2.000000  \n",
       "50%          816.500000    965.500000    2.000000  \n",
       "75%         3922.000000   1820.250000    3.000000  \n",
       "max        40827.000000  47943.000000    3.000000  "
      ]
     },
     "execution_count": 318,
     "metadata": {},
     "output_type": "execute_result"
    }
   ],
   "source": [
    "df.describe()"
   ]
  },
  {
   "cell_type": "code",
   "execution_count": 319,
   "id": "57faf007-fcdc-4794-9223-222f744f333d",
   "metadata": {},
   "outputs": [
    {
     "data": {
      "text/plain": [
       "Region\n",
       "3    316\n",
       "1     77\n",
       "2     47\n",
       "Name: count, dtype: int64"
      ]
     },
     "execution_count": 319,
     "metadata": {},
     "output_type": "execute_result"
    }
   ],
   "source": [
    "# Check unique Regions and their counts\n",
    "df['Region'].value_counts()"
   ]
  },
  {
   "cell_type": "code",
   "execution_count": 320,
   "id": "17d09b79-8411-4f82-b07b-7b24033947ae",
   "metadata": {},
   "outputs": [
    {
     "data": {
      "text/plain": [
       "class\n",
       "2    180\n",
       "3    173\n",
       "1     87\n",
       "Name: count, dtype: int64"
      ]
     },
     "execution_count": 320,
     "metadata": {},
     "output_type": "execute_result"
    }
   ],
   "source": [
    "# Check unique classes and their counts\n",
    "df['class'].value_counts()"
   ]
  },
  {
   "cell_type": "markdown",
   "id": "3d3dac4c-3a72-4692-83d5-88a9911f9f30",
   "metadata": {},
   "source": [
    "**One-Hot Encode Regions and class** as both are **Categorical data**"
   ]
  },
  {
   "cell_type": "code",
   "execution_count": 321,
   "id": "9504c6e3-4a38-4025-9de6-ba5360cb8fb9",
   "metadata": {},
   "outputs": [],
   "source": [
    "region_col = df[['Region']]\n",
    "\n",
    "# Initialize and apply encoder\n",
    "encoder = OneHotEncoder(sparse_output=False)\n",
    "region_encoded = encoder.fit_transform(region_col)\n",
    "\n",
    "# Get column names and create a DataFrame\n",
    "region_feature_names = encoder.get_feature_names_out(['Region'])\n",
    "region_df = pd.DataFrame(region_encoded, columns=region_feature_names)\n",
    "\n",
    "# Concatenate with original data\n",
    "df = pd.concat([df.drop('Region', axis=1), region_df], axis=1)\n",
    "\n",
    "class_col = df[['class']]\n",
    "\n",
    "# Initialize and apply encoder\n",
    "encoder = OneHotEncoder(sparse_output=False)\n",
    "class_encoded = encoder.fit_transform(class_col)\n",
    "\n",
    "# Get column names and create a DataFrame\n",
    "class_feature_names = encoder.get_feature_names_out(['class'])\n",
    "class_df = pd.DataFrame(class_encoded, columns=class_feature_names)\n",
    "\n",
    "# Concatenate with original data\n",
    "df = pd.concat([df.drop('class', axis=1), class_df], axis=1)"
   ]
  },
  {
   "cell_type": "code",
   "execution_count": 322,
   "id": "5e88a5cd-a7fa-4144-a6ad-aa517e540583",
   "metadata": {},
   "outputs": [
    {
     "data": {
      "text/html": [
       "<div>\n",
       "<style scoped>\n",
       "    .dataframe tbody tr th:only-of-type {\n",
       "        vertical-align: middle;\n",
       "    }\n",
       "\n",
       "    .dataframe tbody tr th {\n",
       "        vertical-align: top;\n",
       "    }\n",
       "\n",
       "    .dataframe thead th {\n",
       "        text-align: right;\n",
       "    }\n",
       "</style>\n",
       "<table border=\"1\" class=\"dataframe\">\n",
       "  <thead>\n",
       "    <tr style=\"text-align: right;\">\n",
       "      <th></th>\n",
       "      <th>Fresh</th>\n",
       "      <th>Milk</th>\n",
       "      <th>Grocery</th>\n",
       "      <th>Frozen</th>\n",
       "      <th>Detergents_Paper</th>\n",
       "      <th>Delicassen</th>\n",
       "      <th>Region_1</th>\n",
       "      <th>Region_2</th>\n",
       "      <th>Region_3</th>\n",
       "      <th>class_1</th>\n",
       "      <th>class_2</th>\n",
       "      <th>class_3</th>\n",
       "    </tr>\n",
       "  </thead>\n",
       "  <tbody>\n",
       "    <tr>\n",
       "      <th>0</th>\n",
       "      <td>12669</td>\n",
       "      <td>9656</td>\n",
       "      <td>7561</td>\n",
       "      <td>214</td>\n",
       "      <td>2674</td>\n",
       "      <td>1338</td>\n",
       "      <td>0.0</td>\n",
       "      <td>0.0</td>\n",
       "      <td>1.0</td>\n",
       "      <td>0.0</td>\n",
       "      <td>1.0</td>\n",
       "      <td>0.0</td>\n",
       "    </tr>\n",
       "    <tr>\n",
       "      <th>1</th>\n",
       "      <td>7057</td>\n",
       "      <td>9810</td>\n",
       "      <td>9568</td>\n",
       "      <td>1762</td>\n",
       "      <td>3293</td>\n",
       "      <td>1776</td>\n",
       "      <td>0.0</td>\n",
       "      <td>0.0</td>\n",
       "      <td>1.0</td>\n",
       "      <td>0.0</td>\n",
       "      <td>1.0</td>\n",
       "      <td>0.0</td>\n",
       "    </tr>\n",
       "    <tr>\n",
       "      <th>2</th>\n",
       "      <td>6353</td>\n",
       "      <td>8808</td>\n",
       "      <td>7684</td>\n",
       "      <td>2405</td>\n",
       "      <td>3516</td>\n",
       "      <td>7844</td>\n",
       "      <td>0.0</td>\n",
       "      <td>0.0</td>\n",
       "      <td>1.0</td>\n",
       "      <td>0.0</td>\n",
       "      <td>1.0</td>\n",
       "      <td>0.0</td>\n",
       "    </tr>\n",
       "    <tr>\n",
       "      <th>3</th>\n",
       "      <td>13265</td>\n",
       "      <td>1196</td>\n",
       "      <td>4221</td>\n",
       "      <td>6404</td>\n",
       "      <td>507</td>\n",
       "      <td>1788</td>\n",
       "      <td>0.0</td>\n",
       "      <td>0.0</td>\n",
       "      <td>1.0</td>\n",
       "      <td>1.0</td>\n",
       "      <td>0.0</td>\n",
       "      <td>0.0</td>\n",
       "    </tr>\n",
       "    <tr>\n",
       "      <th>4</th>\n",
       "      <td>22615</td>\n",
       "      <td>5410</td>\n",
       "      <td>7198</td>\n",
       "      <td>3915</td>\n",
       "      <td>1777</td>\n",
       "      <td>5185</td>\n",
       "      <td>0.0</td>\n",
       "      <td>0.0</td>\n",
       "      <td>1.0</td>\n",
       "      <td>1.0</td>\n",
       "      <td>0.0</td>\n",
       "      <td>0.0</td>\n",
       "    </tr>\n",
       "  </tbody>\n",
       "</table>\n",
       "</div>"
      ],
      "text/plain": [
       "   Fresh  Milk  Grocery  Frozen  Detergents_Paper  Delicassen  Region_1  \\\n",
       "0  12669  9656     7561     214              2674        1338       0.0   \n",
       "1   7057  9810     9568    1762              3293        1776       0.0   \n",
       "2   6353  8808     7684    2405              3516        7844       0.0   \n",
       "3  13265  1196     4221    6404               507        1788       0.0   \n",
       "4  22615  5410     7198    3915              1777        5185       0.0   \n",
       "\n",
       "   Region_2  Region_3  class_1  class_2  class_3  \n",
       "0       0.0       1.0      0.0      1.0      0.0  \n",
       "1       0.0       1.0      0.0      1.0      0.0  \n",
       "2       0.0       1.0      0.0      1.0      0.0  \n",
       "3       0.0       1.0      1.0      0.0      0.0  \n",
       "4       0.0       1.0      1.0      0.0      0.0  "
      ]
     },
     "execution_count": 322,
     "metadata": {},
     "output_type": "execute_result"
    }
   ],
   "source": [
    "df.head()"
   ]
  },
  {
   "cell_type": "code",
   "execution_count": 323,
   "id": "2a407fb9-4eab-4e04-90c8-5f819d8a81cc",
   "metadata": {},
   "outputs": [],
   "source": [
    "X = df.drop(columns=['class_1','class_2','class_3'])\n",
    "y = df[['class_1','class_2','class_3']]"
   ]
  },
  {
   "cell_type": "markdown",
   "id": "21721ad7-da0e-4ad0-82b7-74c1da315206",
   "metadata": {},
   "source": [
    "**Visualizing the data using PCA**"
   ]
  },
  {
   "cell_type": "code",
   "execution_count": 324,
   "id": "27259520-58a0-4bb8-9159-a245addd2604",
   "metadata": {},
   "outputs": [
    {
     "data": {
      "text/plain": [
       "(440, 2)"
      ]
     },
     "execution_count": 324,
     "metadata": {},
     "output_type": "execute_result"
    }
   ],
   "source": [
    "from sklearn.decomposition import PCA\n",
    "\n",
    "# reducing features to just 2 features\n",
    "pca = PCA(n_components=2)\n",
    "visual_1 = pca.fit_transform(X)\n",
    "visual_1.shape"
   ]
  },
  {
   "cell_type": "code",
   "execution_count": 325,
   "id": "1a57c330-56fc-434b-a96b-efadb5a01ec5",
   "metadata": {},
   "outputs": [
    {
     "name": "stdout",
     "output_type": "stream",
     "text": [
      "[0.45961362 0.40517227]\n"
     ]
    },
    {
     "data": {
      "image/png": "[encoded data removed]",
      "text/plain": [
       "<Figure size 640x480 with 1 Axes>"
      ]
     },
     "metadata": {},
     "output_type": "display_data"
    }
   ],
   "source": [
    "df2 = pd.DataFrame(visual_1, columns=['f1', 'f2'])\n",
    "df2['y'] = np.argmax(y.values, axis=1)  # converts: [1, 0, 0] → 0 (class 1), [0, 1, 0] → 1 (class 2), [0, 0, 1] → 2 (class 3)\n",
    "print(pca.explained_variance_ratio_)\n",
    "sns.scatterplot(data= df2, x= 'f1',y = 'f2' , hue = 'y')\n",
    "plt.show()"
   ]
  },
  {
   "cell_type": "markdown",
   "id": "dbcaa7f3-683e-430d-a932-feefef8eddf5",
   "metadata": {},
   "source": [
    "**Observation**\n",
    "\n",
    "Data is not linearly separable. Hence, best strategy would be to use Deep Neural Network"
   ]
  },
  {
   "cell_type": "markdown",
   "id": "62b13178-78f4-4974-9a45-5f58d12596a7",
   "metadata": {},
   "source": [
    "**Splitting Data into Train, Validation and Test Data**"
   ]
  },
  {
   "cell_type": "code",
   "execution_count": 326,
   "id": "971fcbad-da5b-45ff-a4aa-b3a97923d5bb",
   "metadata": {},
   "outputs": [
    {
     "name": "stdout",
     "output_type": "stream",
     "text": [
      "Train :  (356, 9) (356, 3)\n",
      "Validation: (40, 9) (40, 3)\n",
      "Test  :  (44, 9) (44, 3)\n"
     ]
    }
   ],
   "source": [
    "from sklearn.model_selection import train_test_split\n",
    "\n",
    "# 90% Train+Val → X_train_val, y_train_val # 10% Test set → X_test, y_test\n",
    "X_train_val, X_test, y_train_val, y_test = train_test_split(X, y, test_size=0.1, random_state=42) \n",
    "\n",
    "# 90% Train → X_train, y_train (i.e., 81% of original data) # 10% Validation → X_val, y_val (i.e., 9% of original data)\n",
    "X_train, X_val, y_train, y_val = train_test_split(X_train_val, y_train_val, test_size=0.1, random_state=42)\n",
    "\n",
    "print('Train : ', X_train.shape, y_train.shape)\n",
    "print('Validation:', X_val.shape, y_val.shape)\n",
    "print('Test  : ', X_test.shape, y_test.shape)"
   ]
  },
  {
   "cell_type": "raw",
   "id": "4cb6d60b-fef7-4c90-97f3-8877a952d18f",
   "metadata": {},
   "source": []
  },
  {
   "cell_type": "markdown",
   "id": "edb35ed4-b92e-448d-9970-edf2d2c6221d",
   "metadata": {},
   "source": [
    "**Standardizing the data**"
   ]
  },
  {
   "cell_type": "markdown",
   "id": "a45172e0-72f4-4866-b3fc-35aa636835f1",
   "metadata": {},
   "source": [
    "Standardization rescales all features so that they have:\n",
    "\n",
    "* Mean = 0\n",
    "* Standard deviation = 1\n",
    "\n",
    "This helps:\n",
    "\n",
    "* Speed up model convergence\n",
    "* Avoid domination by features with larger scales\n",
    "* Improve performance for models like neural networks"
   ]
  },
  {
   "cell_type": "code",
   "execution_count": 327,
   "id": "cdbcf9fd-660e-4cec-af43-b9166754a15f",
   "metadata": {},
   "outputs": [],
   "source": [
    "from sklearn.preprocessing import StandardScaler\n",
    "\n",
    "scaler = StandardScaler()\n",
    "X_train = scaler.fit_transform(X_train)\n",
    "\n",
    "X_val = scaler.transform(X_val)\n",
    "X_test = scaler.transform(X_test)"
   ]
  },
  {
   "cell_type": "code",
   "execution_count": 328,
   "id": "79e3bbab-c0f4-4ef0-82a3-0c0d6bd20ccb",
   "metadata": {},
   "outputs": [
    {
     "data": {
      "text/plain": [
       "array([ 5.98771968e-17,  1.24744160e-17, -4.98976640e-18,  1.99590656e-17,\n",
       "        1.49692992e-17,  1.74641824e-17,  2.49488320e-17,  1.49692992e-17,\n",
       "        1.19754394e-16])"
      ]
     },
     "execution_count": 328,
     "metadata": {},
     "output_type": "execute_result"
    }
   ],
   "source": [
    "np.mean(X_train, axis=0)"
   ]
  },
  {
   "cell_type": "code",
   "execution_count": 329,
   "id": "e7417a61-f9fe-4071-8c26-089e07181103",
   "metadata": {},
   "outputs": [],
   "source": [
    "# Above values are close to 0"
   ]
  },
  {
   "cell_type": "code",
   "execution_count": 330,
   "id": "0ac6095e-bd85-4425-a4e2-f097fbf2f099",
   "metadata": {},
   "outputs": [
    {
     "data": {
      "text/plain": [
       "array([1., 1., 1., 1., 1., 1., 1., 1., 1.])"
      ]
     },
     "execution_count": 330,
     "metadata": {},
     "output_type": "execute_result"
    }
   ],
   "source": [
    "np.std(X_train, axis=0)"
   ]
  },
  {
   "cell_type": "markdown",
   "id": "818de93f-8166-4d31-a687-4deb533c8cd5",
   "metadata": {},
   "source": [
    "Why fit_transform on X_train and only transform on X_val / X_test?\n",
    "\n",
    "--> Because on X_train, we learn and apply scaling.\n",
    "X_val & X_test - Reuse training mean/std"
   ]
  },
  {
   "cell_type": "markdown",
   "id": "ea450755-235a-4280-aa04-723aa35e5fb9",
   "metadata": {},
   "source": [
    "**We can create 7 layers NN**"
   ]
  },
  {
   "cell_type": "markdown",
   "id": "af80e2bc-11e1-4c66-b344-d7841cf73cee",
   "metadata": {},
   "source": [
    "<img src=\"nn_7layers.png\">"
   ]
  },
  {
   "cell_type": "markdown",
   "id": "b46d6997-013a-4650-94aa-5ed8ab8a1b50",
   "metadata": {},
   "source": [
    "**Layers Description:**\n",
    "\n",
    "\n",
    "| Layer | Descrption |\n",
    "| :-- | :--|\n",
    "| **L1** | Input Layer|\n",
    "| **L2** | Contains 32 Neurons|\n",
    "|**L3** |Contains 64 Neurons|\n",
    "|**L4** |Contains 128 Neurons|\n",
    "|**L5** |Contains 64 Neurons |\n",
    "|**L6** |Contains 32 Neurons|\n",
    "|**L7** |Output Layer |\n",
    "\n",
    "<br>\n",
    "\n",
    "**Note:** In Between the layers, we will use:\n",
    "- ReLU as the Activation function"
   ]
  },
  {
   "cell_type": "code",
   "execution_count": 331,
   "id": "e0379b8e-9adc-416a-8a5a-9904d333ab5b",
   "metadata": {},
   "outputs": [
    {
     "name": "stderr",
     "output_type": "stream",
     "text": [
      "/Library/Frameworks/Python.framework/Versions/3.10/lib/python3.10/site-packages/keras/src/layers/core/dense.py:93: UserWarning: Do not pass an `input_shape`/`input_dim` argument to a layer. When using Sequential models, prefer using an `Input(shape)` object as the first layer in the model instead.\n",
      "  super().__init__(activity_regularizer=activity_regularizer, **kwargs)\n"
     ]
    }
   ],
   "source": [
    "from tensorflow.keras.models import Sequential\n",
    "from tensorflow.keras.layers import Dense\n",
    "from tensorflow.keras.optimizers import SGD\n",
    "\n",
    "# Define the model\n",
    "model = Sequential([\n",
    "    Dense(32, activation='relu', input_shape=(X_train.shape[1],)),  # Input + L2\n",
    "    Dense(64, activation='relu'),                                   # L3\n",
    "    Dense(128, activation='relu'),                                  # L4\n",
    "    Dense(64, activation='relu'),                                   # L5\n",
    "    Dense(32, activation='relu'),                                   # L6\n",
    "    Dense(3, activation='softmax')                                  # L7 (Output)\n",
    "])"
   ]
  },
  {
   "cell_type": "markdown",
   "id": "c302368d-aadb-4ac7-bbf7-10a44f9cce3a",
   "metadata": {},
   "source": [
    "**SGD (No Momentum)**"
   ]
  },
  {
   "cell_type": "code",
   "execution_count": 332,
   "id": "7ec4ef3f-9d94-4823-b1d0-12858edaa68e",
   "metadata": {},
   "outputs": [],
   "source": [
    "# Compile with plain SGD (no momentum)\n",
    "model.compile(\n",
    "    optimizer=SGD(),\n",
    "    loss='categorical_crossentropy',\n",
    "    metrics=['accuracy']\n",
    ")"
   ]
  },
  {
   "cell_type": "code",
   "execution_count": 333,
   "id": "d69ff9de-a596-45ce-bdfa-319d5e1bd24b",
   "metadata": {},
   "outputs": [
    {
     "name": "stdout",
     "output_type": "stream",
     "text": [
      "Epoch 1/20\n",
      "\u001b[1m12/12\u001b[0m \u001b[32m━━━━━━━━━━━━━━━━━━━━\u001b[0m\u001b[37m\u001b[0m \u001b[1m0s\u001b[0m 6ms/step - accuracy: 0.5383 - loss: 1.0618 - val_accuracy: 0.7000 - val_loss: 1.0468\n",
      "Epoch 2/20\n",
      "\u001b[1m12/12\u001b[0m \u001b[32m━━━━━━━━━━━━━━━━━━━━\u001b[0m\u001b[37m\u001b[0m \u001b[1m0s\u001b[0m 2ms/step - accuracy: 0.5787 - loss: 1.0528 - val_accuracy: 0.7250 - val_loss: 1.0244\n",
      "Epoch 3/20\n",
      "\u001b[1m12/12\u001b[0m \u001b[32m━━━━━━━━━━━━━━━━━━━━\u001b[0m\u001b[37m\u001b[0m \u001b[1m0s\u001b[0m 2ms/step - accuracy: 0.6082 - loss: 1.0400 - val_accuracy: 0.7000 - val_loss: 1.0022\n",
      "Epoch 4/20\n",
      "\u001b[1m12/12\u001b[0m \u001b[32m━━━━━━━━━━━━━━━━━━━━\u001b[0m\u001b[37m\u001b[0m \u001b[1m0s\u001b[0m 2ms/step - accuracy: 0.6784 - loss: 1.0269 - val_accuracy: 0.7500 - val_loss: 0.9880\n",
      "Epoch 5/20\n",
      "\u001b[1m12/12\u001b[0m \u001b[32m━━━━━━━━━━━━━━━━━━━━\u001b[0m\u001b[37m\u001b[0m \u001b[1m0s\u001b[0m 4ms/step - accuracy: 0.6925 - loss: 0.9947 - val_accuracy: 0.7500 - val_loss: 0.9707\n",
      "Epoch 6/20\n",
      "\u001b[1m12/12\u001b[0m \u001b[32m━━━━━━━━━━━━━━━━━━━━\u001b[0m\u001b[37m\u001b[0m \u001b[1m0s\u001b[0m 2ms/step - accuracy: 0.7147 - loss: 0.9937 - val_accuracy: 0.8000 - val_loss: 0.9583\n",
      "Epoch 7/20\n",
      "\u001b[1m12/12\u001b[0m \u001b[32m━━━━━━━━━━━━━━━━━━━━\u001b[0m\u001b[37m\u001b[0m \u001b[1m0s\u001b[0m 2ms/step - accuracy: 0.7261 - loss: 0.9810 - val_accuracy: 0.8000 - val_loss: 0.9450\n",
      "Epoch 8/20\n",
      "\u001b[1m12/12\u001b[0m \u001b[32m━━━━━━━━━━━━━━━━━━━━\u001b[0m\u001b[37m\u001b[0m \u001b[1m0s\u001b[0m 2ms/step - accuracy: 0.7342 - loss: 0.9633 - val_accuracy: 0.7750 - val_loss: 0.9276\n",
      "Epoch 9/20\n",
      "\u001b[1m12/12\u001b[0m \u001b[32m━━━━━━━━━━━━━━━━━━━━\u001b[0m\u001b[37m\u001b[0m \u001b[1m0s\u001b[0m 2ms/step - accuracy: 0.7192 - loss: 0.9666 - val_accuracy: 0.8000 - val_loss: 0.9117\n",
      "Epoch 10/20\n",
      "\u001b[1m12/12\u001b[0m \u001b[32m━━━━━━━━━━━━━━━━━━━━\u001b[0m\u001b[37m\u001b[0m \u001b[1m0s\u001b[0m 2ms/step - accuracy: 0.7295 - loss: 0.9305 - val_accuracy: 0.7750 - val_loss: 0.8965\n",
      "Epoch 11/20\n",
      "\u001b[1m12/12\u001b[0m \u001b[32m━━━━━━━━━━━━━━━━━━━━\u001b[0m\u001b[37m\u001b[0m \u001b[1m0s\u001b[0m 2ms/step - accuracy: 0.7402 - loss: 0.9214 - val_accuracy: 0.8250 - val_loss: 0.8798\n",
      "Epoch 12/20\n",
      "\u001b[1m12/12\u001b[0m \u001b[32m━━━━━━━━━━━━━━━━━━━━\u001b[0m\u001b[37m\u001b[0m \u001b[1m0s\u001b[0m 2ms/step - accuracy: 0.7163 - loss: 0.9119 - val_accuracy: 0.8250 - val_loss: 0.8612\n",
      "Epoch 13/20\n",
      "\u001b[1m12/12\u001b[0m \u001b[32m━━━━━━━━━━━━━━━━━━━━\u001b[0m\u001b[37m\u001b[0m \u001b[1m0s\u001b[0m 2ms/step - accuracy: 0.7607 - loss: 0.8810 - val_accuracy: 0.8250 - val_loss: 0.8441\n",
      "Epoch 14/20\n",
      "\u001b[1m12/12\u001b[0m \u001b[32m━━━━━━━━━━━━━━━━━━━━\u001b[0m\u001b[37m\u001b[0m \u001b[1m0s\u001b[0m 2ms/step - accuracy: 0.7530 - loss: 0.8621 - val_accuracy: 0.8000 - val_loss: 0.8245\n",
      "Epoch 15/20\n",
      "\u001b[1m12/12\u001b[0m \u001b[32m━━━━━━━━━━━━━━━━━━━━\u001b[0m\u001b[37m\u001b[0m \u001b[1m0s\u001b[0m 2ms/step - accuracy: 0.6947 - loss: 0.8777 - val_accuracy: 0.8250 - val_loss: 0.8067\n",
      "Epoch 16/20\n",
      "\u001b[1m12/12\u001b[0m \u001b[32m━━━━━━━━━━━━━━━━━━━━\u001b[0m\u001b[37m\u001b[0m \u001b[1m0s\u001b[0m 2ms/step - accuracy: 0.7406 - loss: 0.8375 - val_accuracy: 0.8250 - val_loss: 0.7862\n",
      "Epoch 17/20\n",
      "\u001b[1m12/12\u001b[0m \u001b[32m━━━━━━━━━━━━━━━━━━━━\u001b[0m\u001b[37m\u001b[0m \u001b[1m0s\u001b[0m 2ms/step - accuracy: 0.7555 - loss: 0.8126 - val_accuracy: 0.8250 - val_loss: 0.7651\n",
      "Epoch 18/20\n",
      "\u001b[1m12/12\u001b[0m \u001b[32m━━━━━━━━━━━━━━━━━━━━\u001b[0m\u001b[37m\u001b[0m \u001b[1m0s\u001b[0m 2ms/step - accuracy: 0.7237 - loss: 0.8175 - val_accuracy: 0.8250 - val_loss: 0.7432\n",
      "Epoch 19/20\n",
      "\u001b[1m12/12\u001b[0m \u001b[32m━━━━━━━━━━━━━━━━━━━━\u001b[0m\u001b[37m\u001b[0m \u001b[1m0s\u001b[0m 2ms/step - accuracy: 0.7665 - loss: 0.7556 - val_accuracy: 0.8250 - val_loss: 0.7230\n",
      "Epoch 20/20\n",
      "\u001b[1m12/12\u001b[0m \u001b[32m━━━━━━━━━━━━━━━━━━━━\u001b[0m\u001b[37m\u001b[0m \u001b[1m0s\u001b[0m 2ms/step - accuracy: 0.7454 - loss: 0.7716 - val_accuracy: 0.8250 - val_loss: 0.6984\n"
     ]
    }
   ],
   "source": [
    "history = model.fit(\n",
    "    X_train, y_train,\n",
    "    validation_data=(X_val, y_val),\n",
    "    epochs=20,\n",
    "    batch_size=32\n",
    ")"
   ]
  },
  {
   "cell_type": "code",
   "execution_count": 334,
   "id": "f2020264-a7e6-4f12-b1bc-31cc6ab04848",
   "metadata": {},
   "outputs": [
    {
     "data": {
      "image/png": "[encoded data removed]",
      "text/plain": [
       "<Figure size 800x500 with 1 Axes>"
      ]
     },
     "metadata": {},
     "output_type": "display_data"
    }
   ],
   "source": [
    "# Plot training and validation loss\n",
    "plt.figure(figsize=(8, 5))\n",
    "\n",
    "epochs = history.epoch\n",
    "loss = history.history[\"loss\"]\n",
    "val_loss = history.history[\"val_loss\"]\n",
    "\n",
    "plt.plot(epochs, loss, label=\"train\")\n",
    "plt.plot(epochs, val_loss, label=\"validation\")\n",
    "\n",
    "plt.title('SGD (No Momentum) - Loss over Epochs')\n",
    "plt.xlabel('Epoch')\n",
    "plt.ylabel('Loss')\n",
    "plt.legend()\n",
    "\n",
    "plt.show()"
   ]
  },
  {
   "cell_type": "markdown",
   "id": "14dcbc3f-784d-4558-850b-ced08b3ff5b9",
   "metadata": {},
   "source": [
    "**SGD + Momentum**"
   ]
  },
  {
   "cell_type": "code",
   "execution_count": 335,
   "id": "7453fe29-ee6d-4971-9115-1dc111d286fa",
   "metadata": {},
   "outputs": [],
   "source": [
    "# Compile with SGD + momentum\n",
    "model.compile(\n",
    "    optimizer=SGD(momentum=0.9),\n",
    "    loss='categorical_crossentropy',\n",
    "    metrics=['accuracy']\n",
    ")"
   ]
  },
  {
   "cell_type": "code",
   "execution_count": 336,
   "id": "c939c223-a224-44e6-b97b-6e618c6ce7a2",
   "metadata": {},
   "outputs": [
    {
     "name": "stdout",
     "output_type": "stream",
     "text": [
      "Epoch 1/20\n",
      "\u001b[1m12/12\u001b[0m \u001b[32m━━━━━━━━━━━━━━━━━━━━\u001b[0m\u001b[37m\u001b[0m \u001b[1m0s\u001b[0m 6ms/step - accuracy: 0.7423 - loss: 0.7356 - val_accuracy: 0.8250 - val_loss: 0.5882\n",
      "Epoch 2/20\n",
      "\u001b[1m12/12\u001b[0m \u001b[32m━━━━━━━━━━━━━━━━━━━━\u001b[0m\u001b[37m\u001b[0m \u001b[1m0s\u001b[0m 2ms/step - accuracy: 0.8012 - loss: 0.5903 - val_accuracy: 0.8500 - val_loss: 0.4393\n",
      "Epoch 3/20\n",
      "\u001b[1m12/12\u001b[0m \u001b[32m━━━━━━━━━━━━━━━━━━━━\u001b[0m\u001b[37m\u001b[0m \u001b[1m0s\u001b[0m 2ms/step - accuracy: 0.8270 - loss: 0.4409 - val_accuracy: 0.8500 - val_loss: 0.3558\n",
      "Epoch 4/20\n",
      "\u001b[1m12/12\u001b[0m \u001b[32m━━━━━━━━━━━━━━━━━━━━\u001b[0m\u001b[37m\u001b[0m \u001b[1m0s\u001b[0m 2ms/step - accuracy: 0.8647 - loss: 0.3689 - val_accuracy: 0.9250 - val_loss: 0.3344\n",
      "Epoch 5/20\n",
      "\u001b[1m12/12\u001b[0m \u001b[32m━━━━━━━━━━━━━━━━━━━━\u001b[0m\u001b[37m\u001b[0m \u001b[1m0s\u001b[0m 2ms/step - accuracy: 0.8880 - loss: 0.3426 - val_accuracy: 0.8500 - val_loss: 0.3344\n",
      "Epoch 6/20\n",
      "\u001b[1m12/12\u001b[0m \u001b[32m━━━━━━━━━━━━━━━━━━━━\u001b[0m\u001b[37m\u001b[0m \u001b[1m0s\u001b[0m 2ms/step - accuracy: 0.9209 - loss: 0.2665 - val_accuracy: 0.8750 - val_loss: 0.3137\n",
      "Epoch 7/20\n",
      "\u001b[1m12/12\u001b[0m \u001b[32m━━━━━━━━━━━━━━━━━━━━\u001b[0m\u001b[37m\u001b[0m \u001b[1m0s\u001b[0m 2ms/step - accuracy: 0.8658 - loss: 0.3325 - val_accuracy: 0.8750 - val_loss: 0.3180\n",
      "Epoch 8/20\n",
      "\u001b[1m12/12\u001b[0m \u001b[32m━━━━━━━━━━━━━━━━━━━━\u001b[0m\u001b[37m\u001b[0m \u001b[1m0s\u001b[0m 2ms/step - accuracy: 0.9034 - loss: 0.2679 - val_accuracy: 0.9000 - val_loss: 0.3299\n",
      "Epoch 9/20\n",
      "\u001b[1m12/12\u001b[0m \u001b[32m━━━━━━━━━━━━━━━━━━━━\u001b[0m\u001b[37m\u001b[0m \u001b[1m0s\u001b[0m 2ms/step - accuracy: 0.9507 - loss: 0.2133 - val_accuracy: 0.9000 - val_loss: 0.3192\n",
      "Epoch 10/20\n",
      "\u001b[1m12/12\u001b[0m \u001b[32m━━━━━━━━━━━━━━━━━━━━\u001b[0m\u001b[37m\u001b[0m \u001b[1m0s\u001b[0m 1ms/step - accuracy: 0.9542 - loss: 0.1611 - val_accuracy: 0.8750 - val_loss: 0.3594\n",
      "Epoch 11/20\n",
      "\u001b[1m12/12\u001b[0m \u001b[32m━━━━━━━━━━━━━━━━━━━━\u001b[0m\u001b[37m\u001b[0m \u001b[1m0s\u001b[0m 1ms/step - accuracy: 0.9706 - loss: 0.1461 - val_accuracy: 0.9000 - val_loss: 0.3149\n",
      "Epoch 12/20\n",
      "\u001b[1m12/12\u001b[0m \u001b[32m━━━━━━━━━━━━━━━━━━━━\u001b[0m\u001b[37m\u001b[0m \u001b[1m0s\u001b[0m 3ms/step - accuracy: 0.9464 - loss: 0.1780 - val_accuracy: 0.9000 - val_loss: 0.3037\n",
      "Epoch 13/20\n",
      "\u001b[1m12/12\u001b[0m \u001b[32m━━━━━━━━━━━━━━━━━━━━\u001b[0m\u001b[37m\u001b[0m \u001b[1m0s\u001b[0m 2ms/step - accuracy: 0.9376 - loss: 0.2075 - val_accuracy: 0.8250 - val_loss: 0.4240\n",
      "Epoch 14/20\n",
      "\u001b[1m12/12\u001b[0m \u001b[32m━━━━━━━━━━━━━━━━━━━━\u001b[0m\u001b[37m\u001b[0m \u001b[1m0s\u001b[0m 2ms/step - accuracy: 0.9496 - loss: 0.1408 - val_accuracy: 0.9000 - val_loss: 0.3162\n",
      "Epoch 15/20\n",
      "\u001b[1m12/12\u001b[0m \u001b[32m━━━━━━━━━━━━━━━━━━━━\u001b[0m\u001b[37m\u001b[0m \u001b[1m0s\u001b[0m 2ms/step - accuracy: 0.9495 - loss: 0.1896 - val_accuracy: 0.9000 - val_loss: 0.4336\n",
      "Epoch 16/20\n",
      "\u001b[1m12/12\u001b[0m \u001b[32m━━━━━━━━━━━━━━━━━━━━\u001b[0m\u001b[37m\u001b[0m \u001b[1m0s\u001b[0m 2ms/step - accuracy: 0.9132 - loss: 0.2355 - val_accuracy: 0.8250 - val_loss: 0.4745\n",
      "Epoch 17/20\n",
      "\u001b[1m12/12\u001b[0m \u001b[32m━━━━━━━━━━━━━━━━━━━━\u001b[0m\u001b[37m\u001b[0m \u001b[1m0s\u001b[0m 2ms/step - accuracy: 0.8968 - loss: 0.3073 - val_accuracy: 0.8750 - val_loss: 0.3431\n",
      "Epoch 18/20\n",
      "\u001b[1m12/12\u001b[0m \u001b[32m━━━━━━━━━━━━━━━━━━━━\u001b[0m\u001b[37m\u001b[0m \u001b[1m0s\u001b[0m 1ms/step - accuracy: 0.9551 - loss: 0.1834 - val_accuracy: 0.9000 - val_loss: 0.3817\n",
      "Epoch 19/20\n",
      "\u001b[1m12/12\u001b[0m \u001b[32m━━━━━━━━━━━━━━━━━━━━\u001b[0m\u001b[37m\u001b[0m \u001b[1m0s\u001b[0m 1ms/step - accuracy: 0.9621 - loss: 0.1415 - val_accuracy: 0.9000 - val_loss: 0.2815\n",
      "Epoch 20/20\n",
      "\u001b[1m12/12\u001b[0m \u001b[32m━━━━━━━━━━━━━━━━━━━━\u001b[0m\u001b[37m\u001b[0m \u001b[1m0s\u001b[0m 1ms/step - accuracy: 0.9536 - loss: 0.1613 - val_accuracy: 0.8750 - val_loss: 0.3295\n"
     ]
    }
   ],
   "source": [
    "history = model.fit(\n",
    "    X_train, y_train,\n",
    "    validation_data=(X_val, y_val),\n",
    "    epochs=20,\n",
    "    batch_size=32\n",
    ")"
   ]
  },
  {
   "cell_type": "code",
   "execution_count": 337,
   "id": "3e22ff8e-d3c4-4fe2-a567-d66893b4a60e",
   "metadata": {},
   "outputs": [
    {
     "data": {
      "image/png": "[encoded data removed]",
      "text/plain": [
       "<Figure size 800x500 with 1 Axes>"
      ]
     },
     "metadata": {},
     "output_type": "display_data"
    }
   ],
   "source": [
    "# Plot training and validation loss\n",
    "plt.figure(figsize=(8, 5))\n",
    "\n",
    "epochs = history.epoch\n",
    "loss = history.history[\"loss\"]\n",
    "val_loss = history.history[\"val_loss\"]\n",
    "\n",
    "plt.plot(epochs, loss, label=\"train\")\n",
    "plt.plot(epochs, val_loss, label=\"validation\")\n",
    "\n",
    "plt.title('SGD + momentum - Loss over Epochs')\n",
    "plt.xlabel('Epoch')\n",
    "plt.ylabel('Loss')\n",
    "plt.legend()\n",
    "\n",
    "plt.show()"
   ]
  }
 ],
 "metadata": {
  "kernelspec": {
   "display_name": "Python 3 (ipykernel)",
   "language": "python",
   "name": "python3"
  },
  "language_info": {
   "codemirror_mode": {
    "name": "ipython",
    "version": 3
   },
   "file_extension": ".py",
   "mimetype": "text/x-python",
   "name": "python",
   "nbconvert_exporter": "python",
   "pygments_lexer": "ipython3",
   "version": "3.10.2"
  }
 },
 "nbformat": 4,
 "nbformat_minor": 5
}
